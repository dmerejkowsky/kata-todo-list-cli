{
 "cells": [
  {
   "cell_type": "code",
   "execution_count": 43,
   "id": "3847cd9e-765d-460d-9760-dd1ccdb5ba59",
   "metadata": {},
   "outputs": [
    {
     "data": {
      "text/plain": [
       "Nothing to be done yet"
      ]
     },
     "execution_count": 43,
     "metadata": {},
     "output_type": "execute_result"
    }
   ],
   "source": [
    "from todos import TaskManager\n",
    "task_manager = TaskManager(clear=True)\n",
    "task_manager"
   ]
  },
  {
   "cell_type": "code",
   "execution_count": 44,
   "id": "08799d66-21b2-4156-813e-f8ddb0441826",
   "metadata": {},
   "outputs": [
    {
     "data": {
      "text/plain": [
       "1 [ ] Learn how to use notebooks"
      ]
     },
     "execution_count": 44,
     "metadata": {},
     "output_type": "execute_result"
    }
   ],
   "source": [
    "task_manager.add(\"Learn how to use notebooks\")\n",
    "task_manager"
   ]
  },
  {
   "cell_type": "code",
   "execution_count": 45,
   "id": "d3041276-a993-438f-885b-6113facaf0e7",
   "metadata": {},
   "outputs": [
    {
     "data": {
      "text/plain": [
       "1 [ ] Learn how to use notebooks\n",
       "2 [ ] Learn how to make CLIS"
      ]
     },
     "execution_count": 45,
     "metadata": {},
     "output_type": "execute_result"
    }
   ],
   "source": [
    "task_manager.add(\"Learn how to make CLIS\")\n",
    "task_manager"
   ]
  },
  {
   "cell_type": "code",
   "execution_count": 46,
   "id": "217fbb22-b8d7-426e-9b16-a4622f5f7e7d",
   "metadata": {},
   "outputs": [
    {
     "data": {
      "text/plain": [
       "1 [x] Learn how to use notebooks\n",
       "2 [ ] Learn how to make CLIS"
      ]
     },
     "execution_count": 46,
     "metadata": {},
     "output_type": "execute_result"
    }
   ],
   "source": [
    "task_manager.update(number=1, done=True)\n",
    "task_manager"
   ]
  }
 ],
 "metadata": {
  "kernelspec": {
   "display_name": "Python Todo List CLI",
   "language": "python",
   "name": "virtual_env_name"
  },
  "language_info": {
   "codemirror_mode": {
    "name": "ipython",
    "version": 3
   },
   "file_extension": ".py",
   "mimetype": "text/x-python",
   "name": "python",
   "nbconvert_exporter": "python",
   "pygments_lexer": "ipython3",
   "version": "3.11.7"
  }
 },
 "nbformat": 4,
 "nbformat_minor": 5
}
