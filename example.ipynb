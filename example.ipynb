{
 "cells": [
  {
   "cell_type": "code",
   "execution_count": 7,
   "id": "3847cd9e-765d-460d-9760-dd1ccdb5ba59",
   "metadata": {},
   "outputs": [
    {
     "data": {
      "text/plain": [
       "[]"
      ]
     },
     "execution_count": 7,
     "metadata": {},
     "output_type": "execute_result"
    }
   ],
   "source": [
    "from todos import TaskManager\n",
    "task_manager = TaskManager()\n",
    "task_manager.tasks"
   ]
  },
  {
   "cell_type": "code",
   "execution_count": 8,
   "id": "08799d66-21b2-4156-813e-f8ddb0441826",
   "metadata": {},
   "outputs": [
    {
     "data": {
      "text/plain": [
       "[Task<#1 -Learn notebooks - done: False>]"
      ]
     },
     "execution_count": 8,
     "metadata": {},
     "output_type": "execute_result"
    }
   ],
   "source": [
    "task_manager.add(\"Learn notebooks\")\n",
    "task_manager.tasks"
   ]
  },
  {
   "cell_type": "code",
   "execution_count": 9,
   "id": "9a64609f-5569-42fe-bad6-d8b6948cc108",
   "metadata": {},
   "outputs": [
    {
     "data": {
      "text/plain": [
       "[Task<#1 -Learn notebooks - done: True>]"
      ]
     },
     "execution_count": 9,
     "metadata": {},
     "output_type": "execute_result"
    }
   ],
   "source": [
    "task_manager.update(number=1, done=True)\n",
    "task_manager.tasks"
   ]
  },
  {
   "cell_type": "code",
   "execution_count": 10,
   "id": "f8a72ef2-a893-47f2-8a42-55ee72124d88",
   "metadata": {},
   "outputs": [
    {
     "data": {
      "text/plain": [
       "[]"
      ]
     },
     "execution_count": 10,
     "metadata": {},
     "output_type": "execute_result"
    }
   ],
   "source": [
    "task_manager.delete(1)\n",
    "task_manager.tasks"
   ]
  },
  {
   "cell_type": "code",
   "execution_count": null,
   "id": "b06282ed-220b-4c72-9cbe-604abd7caf93",
   "metadata": {},
   "outputs": [],
   "source": []
  }
 ],
 "metadata": {
  "kernelspec": {
   "display_name": "Python Todo List CLI",
   "language": "python",
   "name": "virtual_env_name"
  },
  "language_info": {
   "codemirror_mode": {
    "name": "ipython",
    "version": 3
   },
   "file_extension": ".py",
   "mimetype": "text/x-python",
   "name": "python",
   "nbconvert_exporter": "python",
   "pygments_lexer": "ipython3",
   "version": "3.11.7"
  }
 },
 "nbformat": 4,
 "nbformat_minor": 5
}
