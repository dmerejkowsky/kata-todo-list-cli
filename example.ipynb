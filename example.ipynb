{
 "cells": [
  {
   "cell_type": "code",
   "execution_count": 19,
   "id": "3847cd9e-765d-460d-9760-dd1ccdb5ba59",
   "metadata": {},
   "outputs": [
    {
     "data": {
      "text/plain": [
       "[]"
      ]
     },
     "execution_count": 19,
     "metadata": {},
     "output_type": "execute_result"
    }
   ],
   "source": [
    "from todos import TaskManager\n",
    "task_manager = TaskManager(clear=True)\n",
    "task_manager.tasks"
   ]
  },
  {
   "cell_type": "code",
   "execution_count": 20,
   "id": "08799d66-21b2-4156-813e-f8ddb0441826",
   "metadata": {},
   "outputs": [
    {
     "data": {
      "text/plain": [
       "[1 [ ] Learn how to use notebooks]"
      ]
     },
     "execution_count": 20,
     "metadata": {},
     "output_type": "execute_result"
    }
   ],
   "source": [
    "task_manager.add(\"Learn how to use notebooks\")\n",
    "task_manager.tasks"
   ]
  },
  {
   "cell_type": "code",
   "execution_count": 21,
   "id": "d3041276-a993-438f-885b-6113facaf0e7",
   "metadata": {},
   "outputs": [
    {
     "data": {
      "text/plain": [
       "[1 [ ] Learn how to use notebooks, 2 [ ] Learn how to make CLIS]"
      ]
     },
     "execution_count": 21,
     "metadata": {},
     "output_type": "execute_result"
    }
   ],
   "source": [
    "task_manager.add(\"Learn how to make CLIS\")\n",
    "task_manager.tasks"
   ]
  },
  {
   "cell_type": "code",
   "execution_count": 22,
   "id": "217fbb22-b8d7-426e-9b16-a4622f5f7e7d",
   "metadata": {},
   "outputs": [
    {
     "ename": "NameError",
     "evalue": "name 'taks_manager' is not defined",
     "output_type": "error",
     "traceback": [
      "\u001b[0;31m---------------------------------------------------------------------------\u001b[0m",
      "\u001b[0;31mNameError\u001b[0m                                 Traceback (most recent call last)",
      "Cell \u001b[0;32mIn[22], line 1\u001b[0m\n\u001b[0;32m----> 1\u001b[0m \u001b[43mtaks_manager\u001b[49m\u001b[38;5;241m.\u001b[39mupdate(number\u001b[38;5;241m=\u001b[39m\u001b[38;5;241m1\u001b[39m, done\u001b[38;5;241m=\u001b[39m\u001b[38;5;28;01mTrue\u001b[39;00m)\n",
      "\u001b[0;31mNameError\u001b[0m: name 'taks_manager' is not defined"
     ]
    }
   ],
   "source": [
    "task_manager.update(number=1, done=True)"
   ]
  },
  {
   "cell_type": "code",
   "execution_count": null,
   "id": "85a68e82-ea3f-4b27-abd0-1a0668bf49c9",
   "metadata": {},
   "outputs": [],
   "source": []
  }
 ],
 "metadata": {
  "kernelspec": {
   "display_name": "Python Todo List CLI",
   "language": "python",
   "name": "virtual_env_name"
  },
  "language_info": {
   "codemirror_mode": {
    "name": "ipython",
    "version": 3
   },
   "file_extension": ".py",
   "mimetype": "text/x-python",
   "name": "python",
   "nbconvert_exporter": "python",
   "pygments_lexer": "ipython3",
   "version": "3.11.7"
  }
 },
 "nbformat": 4,
 "nbformat_minor": 5
}
